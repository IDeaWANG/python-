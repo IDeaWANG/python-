{
 "cells": [
  {
   "cell_type": "code",
   "execution_count": 1,
   "metadata": {},
   "outputs": [
    {
     "name": "stdout",
     "output_type": "stream",
     "text": [
      "i love mooc\n"
     ]
    }
   ],
   "source": [
    "s=\"i love mooc\"\n",
    "print(s)"
   ]
  },
  {
   "cell_type": "code",
   "execution_count": 1,
   "metadata": {},
   "outputs": [
    {
     "name": "stdout",
     "output_type": "stream",
     "text": [
      "let's go\n",
      "let's go\n",
      "c:\\user\n",
      "i love \r\n",
      "      mooc\n"
     ]
    }
   ],
   "source": [
    "# \\'=='字符串中出现\\得小心  可能出现转义\n",
    "# \\\\==\\ 双反斜杠表示当单斜杠\n",
    "# -windows ：\\n\n",
    "# -linux ：\\r\\n   \n",
    "s=\"let's go\"\n",
    "print(s)\n",
    "\n",
    "ss='let\\'s go'\n",
    "print(ss)\n",
    "\n",
    "sss=\"c:\\\\user\"\n",
    "print(sss)\n",
    "\n",
    "s1=\"i love \\r\\n      mooc\"# \\r\\n 表示换行\n",
    "print(s1)"
   ]
  },
  {
   "cell_type": "markdown",
   "metadata": {},
   "source": [
    "# 格式化  "
   ]
  },
  {
   "cell_type": "code",
   "execution_count": 10,
   "metadata": {},
   "outputs": [
    {
     "name": "stdout",
     "output_type": "stream",
     "text": [
      "i love mooc\n",
      "i love 19\n",
      "i love mooc123 \n"
     ]
    }
   ],
   "source": [
    "print(\"i love %s\"%\"mooc\")\n",
    "a = \"i love %s\" %19\n",
    "b= \"i love %s \" % \"mooc123\"\n",
    "print(a)\n",
    "print(b)"
   ]
  },
  {
   "cell_type": "code",
   "execution_count": 8,
   "metadata": {},
   "outputs": [
    {
     "name": "stdout",
     "output_type": "stream",
     "text": [
      "i love %s\n"
     ]
    }
   ],
   "source": [
    "s=(\"i love %s\")# 后面加了% 才会把%s当作一个占位置的\n",
    "print(s)\n"
   ]
  },
  {
   "cell_type": "code",
   "execution_count": 11,
   "metadata": {
    "scrolled": true
   },
   "outputs": [
    {
     "name": "stdout",
     "output_type": "stream",
     "text": [
      "i love mooc,and i am 19 years old,i live in Anhui\n"
     ]
    }
   ],
   "source": [
    "#格式化利用format；\n",
    "s=\"i love {0},and i am {1} years old,i live in {2}\".format(\"mooc\",19,\"Anhui\")\n",
    "\n",
    "print(s)  "
   ]
  },
  {
   "cell_type": "code",
   "execution_count": 12,
   "metadata": {},
   "outputs": [
    {
     "name": "stdout",
     "output_type": "stream",
     "text": [
      "i love mooc,she love moc\n"
     ]
    }
   ],
   "source": [
    "s=\"i love{0},she love{1}\".format(\" mooc\" ,\" moc\")\n",
    "print(s)"
   ]
  },
  {
   "cell_type": "code",
   "execution_count": 16,
   "metadata": {},
   "outputs": [
    {
     "name": "stdout",
     "output_type": "stream",
     "text": [
      "s=  6.0\n",
      "ss= 16\n",
      "False\n",
      "f=  4052555153018976267\n"
     ]
    }
   ],
   "source": [
    "a=3\n",
    "b=3\n",
    "c=1\n",
    "s=a+b/c\n",
    "print(\"s= \",s)\n",
    "\n",
    "ss=4**2 # **2 表示平方的意思\n",
    "print(\"ss=\",ss)\n",
    "\n",
    "f=3**39 # **39 表示39次方\n",
    "f>=b==80\n",
    "d = f == 10\n",
    "print(d)\n",
    "print(\"f= \",f)"
   ]
  },
  {
   "cell_type": "code",
   "execution_count": 16,
   "metadata": {},
   "outputs": [
    {
     "name": "stdout",
     "output_type": "stream",
     "text": [
      "2.25 2\n"
     ]
    }
   ],
   "source": [
    "s1=9/4\n",
    "s2=9//4\n",
    "print(s1,s2)"
   ]
  },
  {
   "cell_type": "code",
   "execution_count": 17,
   "metadata": {},
   "outputs": [
    {
     "name": "stdout",
     "output_type": "stream",
     "text": [
      "True\n"
     ]
    }
   ],
   "source": [
    "#输出的是boolean类型的返回值\n",
    "print(9!=8)\n"
   ]
  },
  {
   "cell_type": "code",
   "execution_count": 19,
   "metadata": {},
   "outputs": [
    {
     "name": "stdout",
     "output_type": "stream",
     "text": [
      "7\n",
      "17\n"
     ]
    }
   ],
   "source": [
    "#不赋初值 可能结果不一样\n",
    "a=0\n",
    "a=a+7\n",
    "print(a)\n",
    "#若不赋初值 则变为了b=7的累加 14、21、28、.....\n",
    "b\n",
    "b=b+7\n",
    "print(b)"
   ]
  },
  {
   "cell_type": "code",
   "execution_count": 20,
   "metadata": {
    "scrolled": true
   },
   "outputs": [
    {
     "name": "stdout",
     "output_type": "stream",
     "text": [
      "False\n"
     ]
    }
   ],
   "source": [
    "a=True\n",
    "b=False\n",
    "c = False\n",
    "d=a and b or c\n",
    "#以上式子表示1*0+0\n",
    "#即将and 表示为*，将or 表示为 +\n",
    "print(d)\n",
    "    "
   ]
  },
  {
   "cell_type": "code",
   "execution_count": 97,
   "metadata": {},
   "outputs": [
    {
     "name": "stdout",
     "output_type": "stream",
     "text": [
      "0\n"
     ]
    }
   ],
   "source": [
    "# and 和 or 运算\n",
    "a= 0\n",
    "b = 1\n",
    "c = 0\n",
    "d= a and b or c\n",
    "print(d)"
   ]
  },
  {
   "cell_type": "code",
   "execution_count": 100,
   "metadata": {},
   "outputs": [
    {
     "name": "stdout",
     "output_type": "stream",
     "text": [
      "True\n",
      "False\n"
     ]
    }
   ],
   "source": [
    "#逻辑运算短路\n",
    "#即如果 or 运算 有了真 即为真\n",
    "a = True or xxxxx\n",
    "print(a)\n",
    "#逻辑运算短路\n",
    "#即如果有 and 运算 有了假 即为假\n",
    "b=False and xxxxx\n",
    "print(b)"
   ]
  },
  {
   "cell_type": "code",
   "execution_count": 20,
   "metadata": {},
   "outputs": [
    {
     "name": "stdout",
     "output_type": "stream",
     "text": [
      "3\n",
      "0\n"
     ]
    }
   ],
   "source": [
    "b = 0\n",
    "a = a or b and 6\n",
    "print(a)\n",
    "print(b)"
   ]
  },
  {
   "cell_type": "markdown",
   "metadata": {},
   "source": [
    "# 成员运算符\n",
    "\n"
   ]
  },
  {
   "cell_type": "code",
   "execution_count": 5,
   "metadata": {},
   "outputs": [
    {
     "name": "stdout",
     "output_type": "stream",
     "text": [
      "True\n",
      "False\n",
      "True\n"
     ]
    }
   ],
   "source": [
    "l={1,2,3,4}\n",
    "a=(2 in l)\n",
    "print(a)\n",
    "\n",
    "b=7\n",
    "print(b in l)\n",
    "\n",
    "print (b not in l)"
   ]
  },
  {
   "cell_type": "markdown",
   "metadata": {},
   "source": [
    "# 身份运算符\n",
    "## is 符号"
   ]
  },
  {
   "cell_type": "code",
   "execution_count": 21,
   "metadata": {},
   "outputs": [
    {
     "name": "stdout",
     "output_type": "stream",
     "text": [
      "False\n",
      "False\n",
      "True\n"
     ]
    }
   ],
   "source": [
    "a = 4 \n",
    "b = 5\n",
    "print(a is b)\n",
    "\n",
    "\n",
    "w=\" i love mooc\"\n",
    "e=\" i love mooc\"\n",
    "print(w is e) # 这里的is就是指的地址了；\n",
    "print(w == e)# 这里的 ‘==’ 就是只表示内容；"
   ]
  },
  {
   "cell_type": "markdown",
   "metadata": {},
   "source": [
    "# 运算符的优先级\n",
    "\n",
    "- 用括号将最高级的括起来\n",
    "- 简洁明了 拆成多段代码写"
   ]
  }
 ],
 "metadata": {
  "kernelspec": {
   "display_name": "Python 3",
   "language": "python",
   "name": "python3"
  },
  "language_info": {
   "codemirror_mode": {
    "name": "ipython",
    "version": 3
   },
   "file_extension": ".py",
   "mimetype": "text/x-python",
   "name": "python",
   "nbconvert_exporter": "python",
   "pygments_lexer": "ipython3",
   "version": "3.6.4"
  }
 },
 "nbformat": 4,
 "nbformat_minor": 2
}
