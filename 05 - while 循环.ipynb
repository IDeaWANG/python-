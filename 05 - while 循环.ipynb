{
 "cells": [
  {
   "cell_type": "markdown",
   "metadata": {},
   "source": [
    "\n",
    "# while循环\n",
    "- 一个循环语句\n",
    "- 表示当某条件成立的时候，就循环\n",
    "- 不知道具体循环次数，但能确定循环的成立条件用while循环\n",
    "- while 语句\n",
    "\n",
    "    while 表达式：\n",
    "    语句块"
   ]
  },
  {
   "cell_type": "code",
   "execution_count": 1,
   "metadata": {},
   "outputs": [
    {
     "name": "stdout",
     "output_type": "stream",
     "text": [
      "第1年拿了10670.0\n",
      "第2年拿了11384.89\n",
      "第3年拿了12147.677629999998\n",
      "第4年拿了12961.572031209998\n",
      "第5年拿了13829.997357301068\n",
      "第6年拿了14756.607180240238\n",
      "第7年拿了15745.299861316334\n",
      "第8年拿了16800.23495202453\n",
      "第9年拿了17925.85069381017\n",
      "第10年拿了19126.88269029545\n",
      "第11年拿了20408.383830545245\n",
      "happle !\n",
      "11年终于是翻倍了啊\n"
     ]
    }
   ],
   "source": [
    "# 年利率的问题，知道年利率，用while循环\n",
    "\n",
    "benqian = 10000\n",
    "year = 0\n",
    "while benqian<20000:\n",
    "    benqian = benqian * (1+0.067)\n",
    "    year +=1 #year=year+1\n",
    "    print(\"第{0}年拿了{1}\".format(year,benqian))\n",
    "else:\n",
    "    print(\"happle !\")\n",
    "    print(\"{0}年终于是翻倍了啊\".format(year))"
   ]
  },
  {
   "cell_type": "markdown",
   "metadata": {},
   "source": [
    "# 函数\n",
    "- 代码的一种组织形式\n",
    "- 一个函数完成一个特定的功能\n",
    "   - 函数需要定义\n",
    "   - 使用函数 即调用"
   ]
  },
  {
   "cell_type": "code",
   "execution_count": 8,
   "metadata": {},
   "outputs": [],
   "source": [
    "#定义函数\n",
    "# 只是定义不会循环的\n",
    "# def 是关键字\n",
    "#定义函数名 不要大驼峰 只要小驼峰   \n",
    "\n",
    "def func():\n",
    "    print(\"i am a softeware!\")\n",
    "    print(\"i will achieve a function\")\n",
    "    print(\"this the end!\")"
   ]
  },
  {
   "cell_type": "code",
   "execution_count": 9,
   "metadata": {},
   "outputs": [
    {
     "name": "stdout",
     "output_type": "stream",
     "text": [
      "i am a softeware!\n",
      "i will achieve a function\n",
      "this the end!\n"
     ]
    }
   ],
   "source": [
    "#函数的调用\n",
    "# 直接函数后面跟括号\n",
    "func()"
   ]
  },
  {
   "cell_type": "markdown",
   "metadata": {},
   "source": [
    "### 函数的参数和返回值\n",
    "- 参数：负责传递函数一些重要数据\n",
    "    - 形参：在函数中没有实际的值，只是一个占位符\n",
    "    - 实参：在函数调用的时候输入的数值\n",
    "- 返回值：函数的运行结果\n",
    "    - 使用return关键字\n",
    "    - 如果没有return ，则返回一个None"
   ]
  },
  {
   "cell_type": "code",
   "execution_count": 12,
   "metadata": {},
   "outputs": [
    {
     "name": "stdout",
     "output_type": "stream",
     "text": [
      "bob,what happended \n",
      "sir,need a help?\n"
     ]
    }
   ],
   "source": [
    "#参数的定义和使用\n",
    "#函数的name只是一个符号，代表调用的一个数据\n",
    "#参数的定义和使用，用n代表式子中所有的name\n",
    "\n",
    "def hello(name):\n",
    "    print(\"{0},what happended \".format(name))\n",
    "    print(\"sir,need a help?\")\n",
    "n=\"bob\"    \n",
    "hello(n)"
   ]
  },
  {
   "cell_type": "code",
   "execution_count": 17,
   "metadata": {},
   "outputs": [
    {
     "name": "stdout",
     "output_type": "stream",
     "text": [
      "bob,what happended \n",
      "sir,need a help?\n",
      "i have met bob,but bob not saw me!!\n"
     ]
    }
   ],
   "source": [
    "# return的使用\n",
    "#函数结束后 返回一句话\n",
    "def hello(name):\n",
    "    print(\"{0},what happended \".format(name))\n",
    "    print(\"sir,need a help?\")\n",
    "    \n",
    "    return(\"i have met {0},but {1} not saw me!!\".format(name,name))\n",
    "    \n",
    "n=\"bob\"    \n",
    "rst=hello(n)\n",
    "\n",
    "print(rst)"
   ]
  },
  {
   "cell_type": "code",
   "execution_count": 4,
   "metadata": {},
   "outputs": [
    {
     "name": "stdout",
     "output_type": "stream",
     "text": [
      "bob,what happended \n",
      "chicken!\n"
     ]
    }
   ],
   "source": [
    "# return案例2\n",
    "\n",
    "def hello(name):\n",
    "    print(\"{0},what happended \".format(name))\n",
    "    return\"chicken!\"\n",
    "    print(\"sir,need a help?\")\n",
    "    return\"i have met{0},{1}not notice me\".format(name,name)\n",
    "    return(\"i have met {0},but {1} not saw me!!\".format(name,name))\n",
    "\n",
    "p=\"bob\"\n",
    "\n",
    "rst=hello(p)\n",
    "\n",
    "print(rst)\n",
    "\n"
   ]
  },
  {
   "cell_type": "code",
   "execution_count": 5,
   "metadata": {},
   "outputs": [
    {
     "name": "stdout",
     "output_type": "stream",
     "text": [
      "Help on built-in function print in module builtins:\n",
      "\n",
      "print(...)\n",
      "    print(value, ..., sep=' ', end='\\n', file=sys.stdout, flush=False)\n",
      "    \n",
      "    Prints the values to a stream, or to sys.stdout by default.\n",
      "    Optional keyword arguments:\n",
      "    file:  a file-like object (stream); defaults to the current sys.stdout.\n",
      "    sep:   string inserted between values, default a space.\n",
      "    end:   string appended after the last value, default a newline.\n",
      "    flush: whether to forcibly flush the stream.\n",
      "\n"
     ]
    }
   ],
   "source": [
    "#查找函数帮助文档\n",
    "#1.用help函数\n",
    "help(print)  #print 是一个内建函数 built-in-function(bif)\n"
   ]
  },
  {
   "cell_type": "code",
   "execution_count": 24,
   "metadata": {},
   "outputs": [
    {
     "name": "stdout",
     "output_type": "stream",
     "text": [
      "1*1=1 -----\n",
      "1*2=2 2*2=4 -----\n",
      "1*3=3 2*3=6 3*3=9 -----\n",
      "1*4=4 2*4=8 3*4=12 4*4=16 -----\n",
      "1*5=5 2*5=10 3*5=15 4*5=20 5*5=25 -----\n",
      "1*6=6 2*6=12 3*6=18 4*6=24 5*6=30 6*6=36 -----\n",
      "1*7=7 2*7=14 3*7=21 4*7=28 5*7=35 6*7=42 7*7=49 -----\n",
      "1*8=8 2*8=16 3*8=24 4*8=32 5*8=40 6*8=48 7*8=56 8*8=64 -----\n",
      "1*9=9 2*9=18 3*9=27 4*9=36 5*9=45 6*9=54 7*9=63 8*9=72 9*9=81 -----\n"
     ]
    }
   ],
   "source": [
    "# 9*9 list\n",
    "\n",
    "for row in range(1,10):\n",
    "    #打印一行\n",
    "    for col in range(1,row+1):\n",
    "        #print函数默认任务结束得换行\n",
    "        print(\"{1}*{2}={0}\".format(row*col,col,row),end=\" \")\n",
    "    print(\"-----\")\n",
    "        "
   ]
  },
  {
   "cell_type": "markdown",
   "metadata": {},
   "source": [
    "# 参考书\n",
    "-[参考资料](http://www/cnblogs.com/bingabcd/p/661368.html)\n",
    "- python参考资料：headfirst python-> 小甲鱼写的,这个讲义是拷贝《流畅的python》-->test->后期的腾讯公开免费课\n",
    "\n",
    "   - 参数\n",
    "   -普通参数\n",
    "   -默认参数\n",
    "   -关键字参数\n",
    "   -收集参数\n",
    "   \n",
    "- 普通参数\n",
    "    - 定义直接定义变量名\n",
    "    - 调用时直接把变量或者放入指定的位置\n",
    "           \n",
    "                def 函数名（参数1，参数2，参数。。。。）:\n",
    "                    函数体\n",
    "                    \n",
    "                    \n",
    "                #调用\n",
    "                函数名（value1，value2，。。。。。）\n",
    "                \n",
    "                #调用的时候，具体参考的是相对位置，按位置赋\n",
    "- 默认参数\n",
    "    - 形参带有默认值\n",
    "    - 调用时，如果没有对应的值，则使用默认值\n",
    "             \n",
    "             def func_name(p1=v1,p2=v1,....):\n",
    "             \n",
    "             \n",
    "             #调用1\n",
    "             func_name()\n",
    "             \n",
    "             #调用2\n",
    "             value1= 100\n",
    "             value2= 200\n",
    "             func_name(value1,value2)\n",
    "  \n",
    "    "
   ]
  },
  {
   "cell_type": "code",
   "execution_count": 27,
   "metadata": {},
   "outputs": [],
   "source": [
    "# 默认参数示例\n",
    "#报名函数 默认是男生\n",
    "def reg(name,age,gender=\"male\"):\n",
    "    if gender==\"male\":\n",
    "        print(\"{0}is {1},and he is a good student\".format(name,age))\n",
    "    else:\n",
    "        print(\"{0} is {1},and she s a good student\".format(name,age))\n",
    "    "
   ]
  },
  {
   "cell_type": "code",
   "execution_count": null,
   "metadata": {},
   "outputs": [],
   "source": []
  },
  {
   "cell_type": "code",
   "execution_count": 34,
   "metadata": {},
   "outputs": [
    {
     "name": "stdout",
     "output_type": "stream",
     "text": [
      "bob is 21,and he is a good student\n",
      "lucy is 21,and she s a good student\n"
     ]
    }
   ],
   "source": [
    "#调用默认参数案例1\n",
    "\n",
    "reg(\"bob \",21)#使用默认参数，减少输入量\n",
    "\n",
    "reg (\"lucy\",21,\"female\")# 这里的参数得加性别表示她是女性，输出she"
   ]
  },
  {
   "cell_type": "code",
   "execution_count": null,
   "metadata": {},
   "outputs": [],
   "source": []
  }
 ],
 "metadata": {
  "kernelspec": {
   "display_name": "Python 3",
   "language": "python",
   "name": "python3"
  },
  "language_info": {
   "codemirror_mode": {
    "name": "ipython",
    "version": 3
   },
   "file_extension": ".py",
   "mimetype": "text/x-python",
   "name": "python",
   "nbconvert_exporter": "python",
   "pygments_lexer": "ipython3",
   "version": "3.6.4"
  }
 },
 "nbformat": 4,
 "nbformat_minor": 2
}
