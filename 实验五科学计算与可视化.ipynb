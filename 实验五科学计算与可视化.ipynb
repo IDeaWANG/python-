{
 "cells": [
  {
   "cell_type": "markdown",
   "metadata": {},
   "source": [
    "# 实验五 科学计算与可视化"
   ]
  },
  {
   "cell_type": "markdown",
   "metadata": {},
   "source": [
    "## 实验目的"
   ]
  },
  {
   "cell_type": "markdown",
   "metadata": {},
   "source": [
    "了解Numpy 多维数组的概念，理解多维数组的广播概念\n",
    "掌握Numpy 多维数组的使用方法（初始化、索引、切片、简单的数组与矩阵运算）\n",
    "了解Matplotlib库\n",
    "能使用Matplotlib库绘制二维图形    "
   ]
  },
  {
   "cell_type": "markdown",
   "metadata": {},
   "source": [
    "## 实验内容"
   ]
  },
  {
   "cell_type": "markdown",
   "metadata": {},
   "source": [
    "### 任务 1 运行以下cell中的语句，理解numpy数组的创建方法，属性与常用操作。 必要时修改语句，观察不同参数时语句的运行的结果"
   ]
  },
  {
   "cell_type": "markdown",
   "metadata": {},
   "source": [
    "1、创建 numpy 数组"
   ]
  },
  {
   "cell_type": "markdown",
   "metadata": {},
   "source": [
    "1）列表生成numpy数组"
   ]
  },
  {
   "cell_type": "code",
   "execution_count": null,
   "metadata": {},
   "outputs": [],
   "source": [
    "import numpy as np\n",
    "v = np.array([1,2,3,4])#思考：numpy.ndarray 看上去与 list 差不多。 为什么不直接使用list?\n",
    "v"
   ]
  },
  {
   "cell_type": "code",
   "execution_count": null,
   "metadata": {},
   "outputs": [],
   "source": [
    "M = np.array([[1, 2,3,5], [10,3,4, 4],[25,8,9,8],[2,16,7,18],[70,60,17,8]])\n",
    "M"
   ]
  },
  {
   "cell_type": "code",
   "execution_count": null,
   "metadata": {},
   "outputs": [],
   "source": [
    "#显示地定义元素类型通过在创建数组时使用 dtype 关键字参数\n",
    "#dtype 的常用值有：int, float, complex, bool, object 等\n",
    "N=np.array([[1, 2,3], [3,4, 4]],dtype='float')\n",
    "N"
   ]
  },
  {
   "cell_type": "markdown",
   "metadata": {},
   "source": [
    "利用以下语句查看v和M的属性,并对结果进行解释"
   ]
  },
  {
   "cell_type": "code",
   "execution_count": null,
   "metadata": {},
   "outputs": [],
   "source": [
    "v.shape"
   ]
  },
  {
   "cell_type": "code",
   "execution_count": null,
   "metadata": {},
   "outputs": [],
   "source": [
    "M.shape"
   ]
  },
  {
   "cell_type": "code",
   "execution_count": null,
   "metadata": {},
   "outputs": [],
   "source": [
    "v.dtype#使用 ndarray 的 dtype 属性我们能获得数组元素的类型：\n"
   ]
  },
  {
   "cell_type": "code",
   "execution_count": null,
   "metadata": {},
   "outputs": [],
   "source": [
    "M.size"
   ]
  },
  {
   "cell_type": "code",
   "execution_count": null,
   "metadata": {},
   "outputs": [],
   "source": [
    "M.itemsize # bytes per element\n"
   ]
  },
  {
   "cell_type": "code",
   "execution_count": null,
   "metadata": {},
   "outputs": [],
   "source": [
    "# M的itemsize值为何和N不一样？\n",
    "N.itemsize "
   ]
  },
  {
   "cell_type": "code",
   "execution_count": null,
   "metadata": {},
   "outputs": [],
   "source": [
    "M[0,0] = \"hello\"#思考为何会出错？"
   ]
  },
  {
   "cell_type": "markdown",
   "metadata": {},
   "source": [
    "numpy.ndarray 看上去与 list 差不多。 为什么不直接使用list?\n",
    "- Python 的 list 是动态类型，可以包含不同类型的元素，所以没有支持诸如点乘等数学函数，因为要为 list 实现这些操作会牺牲性能。\n",
    "- Numpy 数组是 静态类型。 元素类型在数组创建的时候就已经确定了。\n",
    "- Numpy 数组节约内存。\n",
    "- 由于是静态类型，对其数学操作函数（如矩阵乘法，矩阵加法）的实现可以使用 C 或者 Fortran 完成。\n"
   ]
  },
  {
   "cell_type": "markdown",
   "metadata": {},
   "source": [
    "2）使用数组生成函数"
   ]
  },
  {
   "cell_type": "code",
   "execution_count": null,
   "metadata": {},
   "outputs": [],
   "source": [
    "#运行语句，请指出3参数的含义\n",
    "x = np.arange(0, 10, 1) # arguments: start, stop, step   \n",
    "x"
   ]
  },
  {
   "cell_type": "code",
   "execution_count": null,
   "metadata": {},
   "outputs": [],
   "source": [
    "#运行语句，请指出linspace和logspac 的含义\n",
    "a=np.linspace(0, 10, 25) #\n",
    "b=np.logspace(0, 10, 10)\n",
    "print(a)\n",
    "print(b)"
   ]
  },
  {
   "cell_type": "code",
   "execution_count": null,
   "metadata": {},
   "outputs": [],
   "source": [
    "a=np.zeros([4,4])\n",
    "b=np.ones([5,4])\n",
    "print(a)\n",
    "print(b)"
   ]
  },
  {
   "cell_type": "code",
   "execution_count": null,
   "metadata": {},
   "outputs": [],
   "source": [
    "np.zeros(4,5)#为何出错？"
   ]
  },
  {
   "cell_type": "markdown",
   "metadata": {},
   "source": [
    "3）利用随机函数产生数组"
   ]
  },
  {
   "cell_type": "code",
   "execution_count": null,
   "metadata": {},
   "outputs": [],
   "source": [
    "#观察random.rand(5,5）和random.randn(5,5)产生的数组有何不同？\n",
    "from numpy import random\n",
    "c=random.rand(5,5)# rand函数根据给定维度生成[0,1)之间的数据，包含0，不包含1\n",
    "c"
   ]
  },
  {
   "cell_type": "code",
   "execution_count": null,
   "metadata": {},
   "outputs": [],
   "source": [
    "d=random.randn(5,5)#返回一个或一组样本，具有标准正态分布\n",
    "d"
   ]
  },
  {
   "cell_type": "code",
   "execution_count": null,
   "metadata": {},
   "outputs": [],
   "source": [
    "print(np.max(c))\n",
    "print(np.min(c))\n",
    "print(np.mean(c))"
   ]
  },
  {
   "cell_type": "code",
   "execution_count": null,
   "metadata": {},
   "outputs": [],
   "source": [
    "print(np.max(d))\n",
    "print(np.min(d))\n",
    "print(np.mean(d))"
   ]
  },
  {
   "cell_type": "code",
   "execution_count": null,
   "metadata": {},
   "outputs": [],
   "source": [
    "#np.random.seed()的作用：使得随机数据可预测。\n",
    "#当我们设置相同的seed，每次生成的随机数相同。如果不设置seed，则每次会生成不同的随机数\n",
    "np.random.seed(0)\n",
    "np.random.rand(5)\n"
   ]
  },
  {
   "cell_type": "code",
   "execution_count": null,
   "metadata": {},
   "outputs": [],
   "source": [
    "np.random.seed(0)\n",
    "np.random.rand(5)#结果是否和上面的一样？"
   ]
  },
  {
   "cell_type": "code",
   "execution_count": null,
   "metadata": {},
   "outputs": [],
   "source": [
    "np.random.rand(5)#结果是否和上面的一样？重新点击运行是否和上次结果一样?"
   ]
  },
  {
   "cell_type": "code",
   "execution_count": null,
   "metadata": {},
   "outputs": [],
   "source": [
    "norm10 = np.random.normal(10, 3, 5)#生成5个样本，均值10， 标准差3\n",
    "norm10"
   ]
  },
  {
   "cell_type": "markdown",
   "metadata": {},
   "source": [
    "2、操作数组\n"
   ]
  },
  {
   "cell_type": "markdown",
   "metadata": {},
   "source": [
    "1）索引与切片"
   ]
  },
  {
   "cell_type": "code",
   "execution_count": null,
   "metadata": {},
   "outputs": [],
   "source": [
    "v"
   ]
  },
  {
   "cell_type": "code",
   "execution_count": null,
   "metadata": {},
   "outputs": [],
   "source": [
    "v[-1]#理解结果，写出原因"
   ]
  },
  {
   "cell_type": "code",
   "execution_count": null,
   "metadata": {},
   "outputs": [],
   "source": [
    "v[::-1]#理解结果，写出原因"
   ]
  },
  {
   "cell_type": "code",
   "execution_count": null,
   "metadata": {},
   "outputs": [],
   "source": [
    "v[3:]#理解结果，写出原因"
   ]
  },
  {
   "cell_type": "code",
   "execution_count": null,
   "metadata": {},
   "outputs": [],
   "source": [
    "M"
   ]
  },
  {
   "cell_type": "code",
   "execution_count": null,
   "metadata": {
    "scrolled": true
   },
   "outputs": [],
   "source": [
    "M[1,1] #理解结果，写出原因"
   ]
  },
  {
   "cell_type": "code",
   "execution_count": null,
   "metadata": {},
   "outputs": [],
   "source": [
    "M[1,:] # 理解结果"
   ]
  },
  {
   "cell_type": "code",
   "execution_count": null,
   "metadata": {},
   "outputs": [],
   "source": [
    "M[:,1] # 理解结果"
   ]
  },
  {
   "cell_type": "code",
   "execution_count": null,
   "metadata": {},
   "outputs": [],
   "source": [
    "M[1:,3]#理解结果，写出原因"
   ]
  },
  {
   "cell_type": "code",
   "execution_count": null,
   "metadata": {},
   "outputs": [],
   "source": [
    "M[1:,1:]#理解结果，写出原因"
   ]
  },
  {
   "cell_type": "code",
   "execution_count": null,
   "metadata": {},
   "outputs": [],
   "source": [
    "M[::-1]#理解结果，写出原因"
   ]
  },
  {
   "cell_type": "code",
   "execution_count": null,
   "metadata": {},
   "outputs": [],
   "source": [
    "M"
   ]
  },
  {
   "cell_type": "code",
   "execution_count": null,
   "metadata": {},
   "outputs": [],
   "source": [
    "M>10 #理解结果,写出原因"
   ]
  },
  {
   "cell_type": "code",
   "execution_count": null,
   "metadata": {},
   "outputs": [],
   "source": [
    "M[M>10]#理解结果,写出原因"
   ]
  },
  {
   "cell_type": "markdown",
   "metadata": {},
   "source": [
    "3 变换数组形态"
   ]
  },
  {
   "cell_type": "code",
   "execution_count": null,
   "metadata": {},
   "outputs": [],
   "source": [
    "arr = np.random.normal(10, 3, (2, 4))\n",
    "arr.reshape(4,-1) #把2行4列转化为4行2列 "
   ]
  },
  {
   "cell_type": "code",
   "execution_count": null,
   "metadata": {},
   "outputs": [],
   "source": [
    "arr.reshape(1,8)"
   ]
  },
  {
   "cell_type": "code",
   "execution_count": null,
   "metadata": {},
   "outputs": [],
   "source": [
    "#arr的形态是否变化了？\n",
    "print(arr.shape)"
   ]
  },
  {
   "cell_type": "markdown",
   "metadata": {},
   "source": [
    "注意： reshape提供的只是一个视图操作，是相同存储区域的视图而已.\n",
    "Numpy 数组的维度可以在底层数据不用复制的情况下进行修改，所以 reshape 操作的速度非常快，即使是操作大数组\n"
   ]
  },
  {
   "cell_type": "code",
   "execution_count": null,
   "metadata": {},
   "outputs": [],
   "source": [
    "arr.ravel() #ravel() 数组展平，arr的形态是否改变？"
   ]
  },
  {
   "cell_type": "code",
   "execution_count": null,
   "metadata": {
    "collapsed": true
   },
   "outputs": [],
   "source": [
    "#也可以使用 flatten 函数创建一个高阶数组的向量版本，但是它会将数据做一份拷贝。"
   ]
  },
  {
   "cell_type": "code",
   "execution_count": null,
   "metadata": {},
   "outputs": [],
   "source": [
    "#数组组合可帮助我们以已有的矩阵为基础创建规模更大的矩阵\n",
    "\n",
    "a=np.array([[0, 1, 2],[3, 4, 5],[6, 7, 8]])\n",
    "print(a)\n",
    "b=2*a\n",
    "print(b)"
   ]
  },
  {
   "cell_type": "code",
   "execution_count": null,
   "metadata": {},
   "outputs": [],
   "source": [
    "c=np.vstack((a,b)) #思考 c的shape是多少，vstack 实现了什么功能"
   ]
  },
  {
   "cell_type": "code",
   "execution_count": null,
   "metadata": {},
   "outputs": [],
   "source": [
    "d=np.hstack((a,b)) ##思考d的shape是多少，vstack 实现了什么功能"
   ]
  },
  {
   "cell_type": "code",
   "execution_count": null,
   "metadata": {},
   "outputs": [],
   "source": [
    "e=np.concatenate((a,b),axis=1) #变换参数axis=1和axis=0.观察结果\n",
    "e"
   ]
  },
  {
   "cell_type": "markdown",
   "metadata": {},
   "source": [
    "4、广播与运算\n",
    "\n",
    " 广播机制，**broadcasting**\n",
    "调整数组使得shape一样，满足规则，则可以运算\n",
    "broadcast 的前提在于，两个 ndarray 执行的是 element-wise（按位加，按位减） 的运算，而不是矩阵乘法的运算，矩阵乘法运算时需要维度之间严格匹配\n",
    "\n",
    "规则：\n",
    "- 让所有输入数组都向其中shape最长的数组看齐，shape中不足的部分都通过在前面加1补齐·\n",
    "- 输出数组的shape是输入数组shape的各个轴上的最大值\n",
    "- 如果输入数组的某个轴和输出数组的对应轴的长度相同或者其长度为1时，这个数组能够用来计算，否则出错\n",
    "- 当输入数组的某个轴的长度为1时，沿着此轴运算时都用此轴上的第一组值"
   ]
  },
  {
   "cell_type": "code",
   "execution_count": null,
   "metadata": {},
   "outputs": [],
   "source": [
    "X=np.ones([3,4])+2\n",
    "X[2,2]=10\n",
    "X"
   ]
  },
  {
   "cell_type": "code",
   "execution_count": null,
   "metadata": {},
   "outputs": [],
   "source": [
    "np.sin(X)+4"
   ]
  },
  {
   "cell_type": "code",
   "execution_count": null,
   "metadata": {
    "collapsed": true
   },
   "outputs": [],
   "source": [
    "Y=np.ones([3,1])+9"
   ]
  },
  {
   "cell_type": "code",
   "execution_count": null,
   "metadata": {},
   "outputs": [],
   "source": [
    "Y"
   ]
  },
  {
   "cell_type": "code",
   "execution_count": null,
   "metadata": {},
   "outputs": [],
   "source": [
    "X+Y"
   ]
  },
  {
   "cell_type": "code",
   "execution_count": null,
   "metadata": {
    "scrolled": true
   },
   "outputs": [],
   "source": [
    "np.arange(3).reshape((3, 1)) + np.arange(3) #分析结果"
   ]
  },
  {
   "cell_type": "code",
   "execution_count": null,
   "metadata": {},
   "outputs": [],
   "source": [
    "v1 = np.array([2, 3, 4])\n",
    "v2 = np.array([1, 0, 1])\n",
    "v1*v2  #数组点乘，不是矩阵积。相当于matlab里面的v1.*v2运算"
   ]
  },
  {
   "cell_type": "code",
   "execution_count": null,
   "metadata": {
    "collapsed": true
   },
   "outputs": [],
   "source": [
    "np.dot(v1, v2) # 若处理的是一维数组，两个数组的点积(dot product) "
   ]
  },
  {
   "cell_type": "code",
   "execution_count": null,
   "metadata": {},
   "outputs": [],
   "source": [
    "M"
   ]
  },
  {
   "cell_type": "code",
   "execution_count": null,
   "metadata": {
    "scrolled": true
   },
   "outputs": [],
   "source": [
    "np.dot(M,M)#为何无法计算？"
   ]
  },
  {
   "cell_type": "code",
   "execution_count": null,
   "metadata": {},
   "outputs": [],
   "source": [
    "np.dot(M,M.T)#为何可以计算（M.T表示M的转置）"
   ]
  },
  {
   "cell_type": "markdown",
   "metadata": {},
   "source": [
    "5.Numpy 原生文件类型"
   ]
  },
  {
   "cell_type": "code",
   "execution_count": null,
   "metadata": {
    "collapsed": true
   },
   "outputs": [],
   "source": [
    "a = np.array([2, 3, 4])\n",
    "np.save(\"a_numpy.npy\",a)#找一找目录中有无a_numpy.npy文件？"
   ]
  },
  {
   "cell_type": "code",
   "execution_count": null,
   "metadata": {
    "collapsed": true
   },
   "outputs": [],
   "source": [
    "b = np.load(\"a_numpy.npy\")#b的内容是什么？"
   ]
  },
  {
   "cell_type": "markdown",
   "metadata": {},
   "source": [
    "### 任务 2"
   ]
  },
  {
   "cell_type": "markdown",
   "metadata": {},
   "source": [
    "运行以下cell中的语句，掌握如何使用matplotlib绘制二维图形"
   ]
  },
  {
   "cell_type": "markdown",
   "metadata": {},
   "source": [
    "1）初级绘制"
   ]
  },
  {
   "cell_type": "code",
   "execution_count": null,
   "metadata": {
    "collapsed": true
   },
   "outputs": [],
   "source": [
    "import numpy as np\n",
    "import matplotlib as mpl\n",
    "import matplotlib.pyplot as plt\n"
   ]
  },
  {
   "cell_type": "code",
   "execution_count": null,
   "metadata": {
    "collapsed": true
   },
   "outputs": [],
   "source": [
    "#运行语句，同时自行添加一些语句给出X,C,S的shape\n",
    "X = np.linspace(-np.pi, np.pi, 256,endpoint=True)\n",
    "C= np.cos(X)\n",
    "S=np.sin(X)"
   ]
  },
  {
   "cell_type": "code",
   "execution_count": null,
   "metadata": {},
   "outputs": [],
   "source": [
    "%matplotlib inline \n",
    "plt.plot(X,S)  #使用默认配置\n",
    "plt.plot(X,C)\n"
   ]
  },
  {
   "cell_type": "code",
   "execution_count": null,
   "metadata": {
    "collapsed": true
   },
   "outputs": [],
   "source": [
    "# 思考若作为工程图形，以上图像哪些地方需要进一步说明？"
   ]
  },
  {
   "cell_type": "code",
   "execution_count": null,
   "metadata": {},
   "outputs": [],
   "source": [
    "#改变以下语句中的参数，观察图形有何变化，写出参数的作用\n",
    "plt.figure(figsize=(9,6), dpi=80)\n",
    "plt.plot(X, C, color=\"blue\", linewidth=5, linestyle=\"-\")\n",
    "plt.plot(X, S, color=\"red\",  linewidth=5, linestyle=\"-\")"
   ]
  },
  {
   "cell_type": "code",
   "execution_count": null,
   "metadata": {},
   "outputs": [],
   "source": [
    "#改变以下语句中的参数，观察图形有何变化，写出参数的作用\n",
    "plt.figure(figsize=(10,6), dpi=80)\n",
    "plt.plot(X, C, color=\"blue\", linewidth=5, linestyle=\"-\")\n",
    "plt.plot(X, S, color=\"red\",  linewidth=5, linestyle=\"-\")\n",
    "plt.xlim(X.min()*1.2, X.max()*1.3)\n",
    "plt.ylim(C.min()*1.2, C.max()*1.3)"
   ]
  },
  {
   "cell_type": "code",
   "execution_count": null,
   "metadata": {},
   "outputs": [],
   "source": [
    "plt.figure(figsize=(10,6), dpi=80)\n",
    "plt.plot(X, C, color=\"blue\", linewidth=5, linestyle=\"-\")\n",
    "plt.plot(X, S, color=\"red\",  linewidth=5, linestyle=\"-\")\n",
    "plt.xlim(X.min()*1.2, X.max()*1.3)\n",
    "plt.ylim(C.min()*1.2, C.max()*1.3)\n",
    "\n",
    "\n",
    "#改变以下9-10语句中的参数，观察图形有何变化，写出参数的作用\n",
    "plt.xticks( [-np.pi, -np.pi/2, 0, np.pi/2, np.pi])# 5个数，代表横坐标上的5个位置\n",
    "plt.yticks([-1, 0, +1])"
   ]
  },
  {
   "cell_type": "code",
   "execution_count": null,
   "metadata": {},
   "outputs": [],
   "source": [
    "plt.figure(figsize=(10,6), dpi=80)\n",
    "plt.plot(X, C, color=\"blue\", linewidth=5, linestyle=\"-\")\n",
    "plt.plot(X, S, color=\"red\",  linewidth=5, linestyle=\"-\")\n",
    "plt.xlim(X.min()*1.2, X.max()*1.3)\n",
    "plt.ylim(C.min()*1.2, C.max()*1.3)\n",
    "\n",
    "\n",
    "#改变以下语句中的参数，观察图形有何变化，写出参数的作用\n",
    "\n",
    "\n",
    "plt.xticks([-np.pi, -np.pi/2, 0, np.pi/2, np.pi],\n",
    "       [r'$-\\pi$', r'$-\\pi/2$', r'$0$', r'$+\\pi/2$', r'$+\\pi$'])\n",
    "\n",
    "plt.yticks([-1, 0, +1],\n",
    "       [r'$-1$', r'$0$', r'$+1$'])"
   ]
  },
  {
   "cell_type": "code",
   "execution_count": null,
   "metadata": {},
   "outputs": [],
   "source": [
    "plt.figure(figsize=(10,6), dpi=80)\n",
    "plt.plot(X, C, color=\"blue\", linewidth=5, linestyle=\"-\")\n",
    "plt.plot(X, S, color=\"red\",  linewidth=5, linestyle=\"-\")\n",
    "plt.xlim(X.min()*1.2, X.max()*1.3)\n",
    "plt.ylim(C.min()*1.2, C.max()*1.3)\n",
    "plt.xticks([-np.pi, -np.pi/2, 0, np.pi/2, np.pi],\n",
    "       [r'$-\\pi$', r'$-\\pi/2$', r'$0$', r'$+\\pi/2$', r'$+\\pi$'])\n",
    "plt.yticks([-1, 0, +1],\n",
    "       [r'$-1$', r'$0$', r'$+1$'])\n",
    "\n",
    "#改变以下语句中的参数，观察图形有何变化，写出参数的作用\n",
    "plt.xlabel('x')\n",
    "plt.ylabel('y axis' )\n",
    "plt.title('sin cos')"
   ]
  },
  {
   "cell_type": "markdown",
   "metadata": {},
   "source": [
    "matplotlib下, 一个 Figure 对象可以包含多个子图(Axes), 可以使用 subplot() 快速绘制, 其调用形式如下 :\n",
    "subplot(numRows, numCols, plotNum)\n",
    "- 图表的整个绘图区域被分成 numRows 行和 numCols 列\n",
    "- 然后按照从左到右，从上到下的顺序对每个子区域进行编号，左上的子区域的编号为1\n",
    "- plotNum 参数指定创建的 Axes 对象所在的区域"
   ]
  },
  {
   "cell_type": "code",
   "execution_count": null,
   "metadata": {},
   "outputs": [],
   "source": [
    "#理解subplot的用法\n",
    "#运行语句，同时自行添加一些语句给出X,C,S的shape\n",
    "X = np.linspace(-np.pi, np.pi, 256,endpoint=True)\n",
    "C= np.cos(X)\n",
    "S=np.sin(X)\n",
    "\n",
    "import matplotlib.pyplot as plt\n",
    "plt.figure(1) # 创建第一个画板（figure）\n",
    "plt.subplot(121) # 第一个画板的第一个子图\n",
    "plt.plot(X,C)\n",
    "plt.subplot(122) # 第二个画板的第二个子图\n",
    "plt.plot(X,S)\n"
   ]
  },
  {
   "cell_type": "markdown",
   "metadata": {},
   "source": [
    "### 任务3 绘制$y=2*sin(x)+cos(x)$的曲线,横坐标范围为$[-3*pi ,3*pi]$ ,曲线为红色"
   ]
  },
  {
   "cell_type": "code",
   "execution_count": null,
   "metadata": {
    "collapsed": true
   },
   "outputs": [],
   "source": []
  }
 ],
 "metadata": {
  "kernelspec": {
   "display_name": "Python [conda root]",
   "language": "python",
   "name": "conda-root-py"
  },
  "language_info": {
   "codemirror_mode": {
    "name": "ipython",
    "version": 3
   },
   "file_extension": ".py",
   "mimetype": "text/x-python",
   "name": "python",
   "nbconvert_exporter": "python",
   "pygments_lexer": "ipython3",
   "version": "3.5.4"
  },
  "toc": {
   "nav_menu": {},
   "number_sections": false,
   "sideBar": true,
   "skip_h1_title": false,
   "title_cell": "Table of Contents",
   "title_sidebar": "Contents",
   "toc_cell": false,
   "toc_position": {
    "height": "calc(100% - 180px)",
    "left": "10px",
    "top": "150px",
    "width": "237px"
   },
   "toc_section_display": true,
   "toc_window_display": false
  },
  "varInspector": {
   "cols": {
    "lenName": 16.0,
    "lenType": 16.0,
    "lenVar": 40.0
   },
   "kernels_config": {
    "python": {
     "delete_cmd_postfix": "",
     "delete_cmd_prefix": "del ",
     "library": "var_list.py",
     "varRefreshCmd": "print(var_dic_list())"
    },
    "r": {
     "delete_cmd_postfix": ") ",
     "delete_cmd_prefix": "rm(",
     "library": "var_list.r",
     "varRefreshCmd": "cat(var_dic_list()) "
    }
   },
   "oldHeight": 122.36,
   "position": {
    "height": "40px",
    "left": "913.36px",
    "right": "20px",
    "top": "120px",
    "width": "250px"
   },
   "types_to_exclude": [
    "module",
    "function",
    "builtin_function_or_method",
    "instance",
    "_Feature"
   ],
   "varInspector_section_display": "none",
   "window_display": true
  },
  "widgets": {
   "state": {},
   "version": "1.1.2"
  }
 },
 "nbformat": 4,
 "nbformat_minor": 2
}
