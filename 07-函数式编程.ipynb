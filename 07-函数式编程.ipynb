{
 "cells": [
  {
   "cell_type": "code",
   "execution_count": 8,
   "metadata": {},
   "outputs": [
    {
     "name": "stdout",
     "output_type": "stream",
     "text": [
      "[899, 100, 30, 20, -30]\n",
      "[-30, 20, 30, 100, 899]\n",
      "[899, 100, 30, -30, 20]\n"
     ]
    }
   ],
   "source": [
    "# sorted排序案例\n",
    "a = [100,30,20,-30,899]\n",
    "a1 = sorted(a,reverse=True) # 按照值的大小倒叙输出\n",
    "a2 = sorted(a,reverse=False)# 按照值的大小顺序输出\n",
    "al = sorted(a,key=abs, reverse=True)# 按照绝对值的大小倒叙输出\n",
    "\n",
    "\n",
    "print(a1)\n",
    "print(a2)\n",
    "print(al)"
   ]
  },
  {
   "cell_type": "code",
   "execution_count": null,
   "metadata": {},
   "outputs": [],
   "source": []
  }
 ],
 "metadata": {
  "kernelspec": {
   "display_name": "Python 3",
   "language": "python",
   "name": "python3"
  },
  "language_info": {
   "codemirror_mode": {
    "name": "ipython",
    "version": 3
   },
   "file_extension": ".py",
   "mimetype": "text/x-python",
   "name": "python",
   "nbconvert_exporter": "python",
   "pygments_lexer": "ipython3",
   "version": "3.6.4"
  }
 },
 "nbformat": 4,
 "nbformat_minor": 2
}
