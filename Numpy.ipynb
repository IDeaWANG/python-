{
 "cells": [
  {
   "cell_type": "code",
   "execution_count": 3,
   "metadata": {},
   "outputs": [
    {
     "data": {
      "text/plain": [
       "array([ 1.        ,  0.99490282,  0.97966323,  0.95443659,  0.91948007,\n",
       "        0.87515004,  0.8218984 ,  0.76026803,  0.69088721,  0.61446323,\n",
       "        0.53177518,  0.44366602,  0.35103397,  0.25482335,  0.15601496,\n",
       "        0.0556161 , -0.04534973, -0.14585325, -0.24486989, -0.34139023,\n",
       "       -0.43443032, -0.52304166, -0.60632092, -0.68341913, -0.75355031,\n",
       "       -0.81599952, -0.87013012, -0.91539031, -0.95131866, -0.97754893,\n",
       "       -0.9938137 , -0.99994717, -0.9958868 , -0.981674  , -0.95745366,\n",
       "       -0.92347268, -0.88007748, -0.82771044, -0.76690542, -0.69828229,\n",
       "       -0.6225406 , -0.54045251, -0.45285485, -0.36064061, -0.26474988,\n",
       "       -0.16616018, -0.06587659,  0.03507857,  0.13567613,  0.23489055,\n",
       "        0.33171042,  0.4251487 ,  0.51425287,  0.59811455,  0.67587883,\n",
       "        0.74675295,  0.8100144 ,  0.86501827,  0.91120382,  0.94810022,\n",
       "        0.97533134,  0.99261957,  0.99978867,  0.99676556,  0.98358105,\n",
       "        0.96036956,  0.9273677 ,  0.88491192,  0.83343502,  0.77346177,\n",
       "        0.70560358,  0.63055219,  0.54907273,  0.46199582,  0.37020915,\n",
       "        0.27464844,  0.17628785,  0.07613012, -0.0248037 , -0.12548467,\n",
       "       -0.2248864 , -0.32199555, -0.41582217, -0.50540974, -0.58984498,\n",
       "       -0.66826712, -0.7398767 , -0.8039437 , -0.859815  , -0.90692104,\n",
       "       -0.94478159, -0.97301068, -0.99132055, -0.99952453, -0.99753899,\n",
       "       -0.98538417, -0.96318398, -0.93116473, -0.88965286, -0.83907153])"
      ]
     },
     "execution_count": 3,
     "metadata": {},
     "output_type": "execute_result"
    }
   ],
   "source": [
    "import numpy as np\n",
    "x = np.linspace(0,10,100)\n",
    "y  = np.cos(x)\n",
    "z = np.cos(y)\n",
    "x \n",
    "y\n"
   ]
  },
  {
   "cell_type": "code",
   "execution_count": 15,
   "metadata": {},
   "outputs": [
    {
     "name": "stdout",
     "output_type": "stream",
     "text": [
      "3\n"
     ]
    }
   ],
   "source": [
    "a = np.array([1,2,3])\n",
    "a[2]\n",
    "print(a[2])"
   ]
  },
  {
   "cell_type": "code",
   "execution_count": 14,
   "metadata": {},
   "outputs": [
    {
     "name": "stdout",
     "output_type": "stream",
     "text": [
      "[1. 2. 3.]\n"
     ]
    }
   ],
   "source": [
    "# numpy 数组的访问\n",
    "#dtype表示数组的数据类型\n",
    "a = np.array([(1,2,3),(4,5,6)],dtype= float)\n",
    "a[0]\n",
    "print(a[0])"
   ]
  },
  {
   "cell_type": "code",
   "execution_count": 22,
   "metadata": {},
   "outputs": [
    {
     "name": "stdout",
     "output_type": "stream",
     "text": [
      "[[1 2 3]]\n",
      "[[4 5 6]]\n"
     ]
    }
   ],
   "source": [
    "a = np.array([(1,2,3),(4,5,6),(7,8,9),(10,11,12)])\n",
    "print(a[0:1])\n"
   ]
  },
  {
   "cell_type": "code",
   "execution_count": 23,
   "metadata": {},
   "outputs": [
    {
     "name": "stdout",
     "output_type": "stream",
     "text": [
      "[[4 5 6]]\n"
     ]
    }
   ],
   "source": [
    "print(a[1:2])"
   ]
  },
  {
   "cell_type": "code",
   "execution_count": 24,
   "metadata": {},
   "outputs": [
    {
     "name": "stdout",
     "output_type": "stream",
     "text": [
      "[[1 2 3]\n",
      " [4 5 6]\n",
      " [7 8 9]]\n"
     ]
    }
   ],
   "source": [
    "print(a[:3])"
   ]
  },
  {
   "cell_type": "code",
   "execution_count": 25,
   "metadata": {},
   "outputs": [
    {
     "name": "stdout",
     "output_type": "stream",
     "text": [
      "[2 5]\n"
     ]
    }
   ],
   "source": [
    "print(a[0:2,1])"
   ]
  },
  {
   "cell_type": "code",
   "execution_count": 40,
   "metadata": {},
   "outputs": [
    {
     "data": {
      "text/plain": [
       "'# a 的数组表示方式\\n# 一个4*3的数组\\na ={1 2 3\\n    4 5 6\\n    7 8 9\\n   10 11 12}\\n'"
      ]
     },
     "execution_count": 40,
     "metadata": {},
     "output_type": "execute_result"
    }
   ],
   "source": [
    "'''# a 的数组表示方式\n",
    "# 一个4*3的数组\n",
    "a ={1 2 3\n",
    "    4 5 6\n",
    "    7 8 9\n",
    "   10 11 12}\n",
    "'''"
   ]
  },
  {
   "cell_type": "code",
   "execution_count": 29,
   "metadata": {},
   "outputs": [
    {
     "name": "stdout",
     "output_type": "stream",
     "text": [
      "[[ 1  4  7 10]\n",
      " [ 2  5  8 11]\n",
      " [ 3  6  9 12]]\n"
     ]
    }
   ],
   "source": [
    "# 将a数组转置得到的b数组就是3*4的一个数组\n",
    "b =np.transpose(a)\n",
    "print(b)"
   ]
  },
  {
   "cell_type": "code",
   "execution_count": 39,
   "metadata": {},
   "outputs": [
    {
     "name": "stdout",
     "output_type": "stream",
     "text": [
      "[[ 1  2  3]\n",
      " [ 4  5  6]\n",
      " [ 7  8  9]\n",
      " [10 11 12]]\n"
     ]
    }
   ],
   "source": [
    "# 这里的简单转置方式就是写成.T的形式。\n",
    "print(b.T)"
   ]
  },
  {
   "cell_type": "code",
   "execution_count": 38,
   "metadata": {},
   "outputs": [
    {
     "name": "stdout",
     "output_type": "stream",
     "text": [
      "[[ 1  2  3  4]\n",
      " [ 5  6  7  8]\n",
      " [ 9 10 11 12]]\n"
     ]
    }
   ],
   "source": [
    "# 重新造型。reshape；\n",
    "print(a.reshape(3,-2))"
   ]
  },
  {
   "cell_type": "code",
   "execution_count": 36,
   "metadata": {},
   "outputs": [
    {
     "name": "stdout",
     "output_type": "stream",
     "text": [
      "[ 1  2  3  4  5  6  7  8  9 10 11 12  1  4  7 10  2  5  8 11  3  6  9 12]\n"
     ]
    }
   ],
   "source": [
    "#将a的item全部添加到b的里面，将所有的item放在一起；\n",
    "print(np.append(a,b))"
   ]
  },
  {
   "cell_type": "code",
   "execution_count": 37,
   "metadata": {},
   "outputs": [
    {
     "name": "stdout",
     "output_type": "stream",
     "text": [
      "[[ 1  2  3]\n",
      " [ 4  5  6]\n",
      " [ 7  8  9]\n",
      " [10 11 12]]\n"
     ]
    }
   ],
   "source": [
    "#stack arrays vertically\n",
    "print(np.vstack((a,)))"
   ]
  },
  {
   "cell_type": "code",
   "execution_count": 6,
   "metadata": {},
   "outputs": [
    {
     "data": {
      "text/plain": [
       "[<matplotlib.lines.Line2D at 0x114a2a518>]"
      ]
     },
     "execution_count": 6,
     "metadata": {},
     "output_type": "execute_result"
    },
    {
     "data": {
      "image/png": "[encoded data removed]",
      "text/plain": [
       "<matplotlib.figure.Figure at 0x10b834a58>"
      ]
     },
     "metadata": {},
     "output_type": "display_data"
    }
   ],
   "source": [
    "# Using Numpy \n",
    "import numpy as np\n",
    "import matplotlib.pyplot as plt \n",
    "x = np.linspace(0,2*np.pi,100) \n",
    "y = np.sin(x)  # 打印一个sin函数；\n",
    "plt.plot(x,y)"
   ]
  },
  {
   "cell_type": "code",
   "execution_count": 9,
   "metadata": {},
   "outputs": [
    {
     "data": {
      "image/png": "[encoded data removed]",
      "text/plain": [
       "<matplotlib.figure.Figure at 0x1112c4860>"
      ]
     },
     "metadata": {},
     "output_type": "display_data"
    }
   ],
   "source": [
    "fig,ax = plt.subplots()\n",
    "\n",
    "ax.plot(x, x**2, label=\"y = x**2\") # 设置x的图例；\n",
    "ax.plot(x, x**3, label=\"y = x**3\") # 设置y的图例；\n",
    "ax.legend(loc=2); # upper left corner\n",
    "ax.set_xlabel('x')# 设置x轴的坐标名称；\n",
    "ax.set_ylabel('y') # 设置y轴的坐标名称；\n",
    "ax.set_title('title'); # 设置title。\n",
    " "
   ]
  },
  {
   "cell_type": "code",
   "execution_count": 10,
   "metadata": {},
   "outputs": [
    {
     "data": {
      "image/png": "[encoded data removed]",
      "text/plain": [
       "<matplotlib.figure.Figure at 0x114c414e0>"
      ]
     },
     "metadata": {},
     "output_type": "display_data"
    }
   ],
   "source": [
    "fig, axes = plt.subplots(1, 2, figsize=(10,4))\n",
    "      \n",
    "axes[0].plot(x, x**2, x, np.exp(x))\n",
    "axes[0].set_title(\"Normal scale\")\n",
    "\n",
    "axes[1].plot(x, x**2, x, np.exp(x))\n",
    "axes[1].set_yscale(\"log\")\n",
    "axes[1].set_title(\"Logarithmic scale (y)\");"
   ]
  },
  {
   "cell_type": "code",
   "execution_count": null,
   "metadata": {},
   "outputs": [],
   "source": []
  }
 ],
 "metadata": {
  "kernelspec": {
   "display_name": "Python 3",
   "language": "python",
   "name": "python3"
  },
  "language_info": {
   "codemirror_mode": {
    "name": "ipython",
    "version": 3
   },
   "file_extension": ".py",
   "mimetype": "text/x-python",
   "name": "python",
   "nbconvert_exporter": "python",
   "pygments_lexer": "ipython3",
   "version": "3.6.4"
  }
 },
 "nbformat": 4,
 "nbformat_minor": 2
}
