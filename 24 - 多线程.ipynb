{
 "cells": [
  {
   "cell_type": "code",
   "execution_count": null,
   "metadata": {},
   "outputs": [
    {
     "name": "stdout",
     "output_type": "stream",
     "text": [
      "Staraating at: Mon Apr 23 20:56:45 2018\n",
      "All done at: Mon Apr 23 20:56:45 2018\n",
      "start loop1 at:Start loop 2 at: Mon Apr 23 20:56:45 2018\n",
      " Mon Apr 23 20:56:45 2018\n",
      "End loop 1 at: Mon Apr 23 20:56:49 2018\n"
     ]
    }
   ],
   "source": [
    "import time\n",
    "import _thread as thread\n",
    "\n",
    "def loop1():\n",
    "    print('start loop1 at:',time.ctime())\n",
    "    \n",
    "    time.sleep(4)\n",
    "    print('End loop 1 at:',time.ctime())\n",
    "    \n",
    "def loop2():\n",
    "    print('Start loop 2 at:',time.ctime())\n",
    "    time.sleep(2)\n",
    "    \n",
    "def main():\n",
    "    print(\"Staraating at:\",time.ctime())\n",
    "        \n",
    "    thread.start_new_thread(loop1,())\n",
    "        \n",
    "    thread.start_new_thread(loop2,())\n",
    "    print(\"All done at:\",time.ctime())\n",
    "        \n",
    "if __name__ == '__main__':\n",
    "    main()\n",
    "    while True:\n",
    "        time.sleep(1)"
   ]
  },
  {
   "cell_type": "code",
   "execution_count": null,
   "metadata": {},
   "outputs": [],
   "source": []
  }
 ],
 "metadata": {
  "kernelspec": {
   "display_name": "Python 3",
   "language": "python",
   "name": "python3"
  },
  "language_info": {
   "codemirror_mode": {
    "name": "ipython",
    "version": 3
   },
   "file_extension": ".py",
   "mimetype": "text/x-python",
   "name": "python",
   "nbconvert_exporter": "python",
   "pygments_lexer": "ipython3",
   "version": "3.6.4"
  }
 },
 "nbformat": 4,
 "nbformat_minor": 2
}
