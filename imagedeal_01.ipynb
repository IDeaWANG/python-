{
 "cells": [
  {
   "cell_type": "code",
   "execution_count": null,
   "metadata": {},
   "outputs": [
    {
     "name": "stdout",
     "output_type": "stream",
     "text": [
      "The directory \"base\" has already existed.\n",
      "The directory \"mask\" has already existed.\n"
     ]
    }
   ],
   "source": [
    "# -*- coding: utf-8 -*-\n",
    "\"\"\"\n",
    "    将n*n张图片拼接在一起，并覆盖上一张降低透明度的图片\n",
    "    Copyright: 2018/01/27 by 邵明山\n",
    "\"\"\"\n",
    "\n",
    "import os\n",
    "from PIL import Image\n",
    "\n",
    "\n",
    "def makedir(path):\n",
    "    if not os.path.exists(path):\n",
    "        os.mkdir(path)\n",
    "        print(\"The directory \\\"\" + path + \"\\\" creates success.\")\n",
    "    else:\n",
    "        print(\"The directory \\\"\" + path + \"\\\" has already existed.\")\n",
    "\n",
    "\n",
    "base_path = \"base\"\n",
    "mask_path = \"mask\"\n",
    "makedir(base_path)\n",
    "makedir(mask_path)\n",
    "\n",
    "\n",
    "n = int(input(\"Please enter n, n^2 is the number of the pictures.\"))\n",
    "print(\"Please put n^2 pictures to the forder \\\"base\\\".\")\n",
    "print(\"Please put one picture to the forder \\\"mask\\\".\")\n",
    "os.system(\"pause\")\n",
    "width = int(input(\"Please enter the width of the final picture.\"))\n",
    "height = int(input(\"Please enter the height of the final picture.\"))\n",
    "transparency = int(input(\"Please enter the transparency% of the mask.\"))\n",
    "\n",
    "base_pictures = []\n",
    "for root, dirs, files in os.walk(os.getcwd()+\"\\\\\"+base_path):\n",
    "    for file in files:\n",
    "        base_pictures.append(os.path.join(root, file))\n",
    "\n",
    "num = 0\n",
    "base = Image.new(\"RGBA\", (width, height))\n",
    "for i in range(0, n):\n",
    "\n",
    "    for j in range(0, n):\n",
    "        picture = Image.open(base_pictures[num])\n",
    "        temp = picture.resize((int(width/n), int(height/n)))\n",
    "        location = (int(i * width / n), int(j * height / n))\n",
    "        base.paste(temp, location)\n",
    "        num += 1\n",
    "\n",
    "    if num >= len(base_pictures):\n",
    "        break\n",
    "\n",
    "    if num >= n*n:\n",
    "        break\n",
    "\n",
    "for root, files in os.walk(os.getcwd()+\"\\\\\"+mask_path):\n",
    "    for file in files:\n",
    "        mask_picture = Image.open(mask_path + \"\\\\\" + file)\n",
    "\n",
    "mask = mask_picture.resize((width, height))\n",
    "mask.putalpha(int(transparency/100 * 255))\n",
    "\n",
    "result = Image.alpha_composite(base, mask)\n",
    "result.save(\"result.png\")\n"
   ]
  },
  {
   "cell_type": "code",
   "execution_count": null,
   "metadata": {},
   "outputs": [],
   "source": []
  },
  {
   "cell_type": "code",
   "execution_count": null,
   "metadata": {},
   "outputs": [],
   "source": []
  }
 ],
 "metadata": {
  "kernelspec": {
   "display_name": "Python 3",
   "language": "python",
   "name": "python3"
  },
  "language_info": {
   "codemirror_mode": {
    "name": "ipython",
    "version": 3
   },
   "file_extension": ".py",
   "mimetype": "text/x-python",
   "name": "python",
   "nbconvert_exporter": "python",
   "pygments_lexer": "ipython3",
   "version": "3.6.4"
  }
 },
 "nbformat": 4,
 "nbformat_minor": 2
}
