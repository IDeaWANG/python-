{
 "cells": [
  {
   "cell_type": "markdown",
   "metadata": {},
   "source": [
    "# 关于列表的函数"
   ]
  },
  {
   "cell_type": "code",
   "execution_count": 5,
   "metadata": {},
   "outputs": [
    {
     "data": {
      "text/plain": [
       "['a', 'i love mooc ', 45, 1333, (4+4j)]"
      ]
     },
     "execution_count": 5,
     "metadata": {},
     "output_type": "execute_result"
    }
   ],
   "source": [
    "l =['a',\"i love mooc \",45,1333,4+4j]\n",
    "l"
   ]
  },
  {
   "cell_type": "code",
   "execution_count": 7,
   "metadata": {},
   "outputs": [
    {
     "name": "stdout",
     "output_type": "stream",
     "text": [
      "[1, 2, 3]\n",
      "[1, 2, 3, 100]\n"
     ]
    }
   ],
   "source": [
    "# append 插入一个内容\n",
    "a = [i for i in range(1,4)]\n",
    "print(a)\n",
    "a.append(100)\n",
    "print(a)"
   ]
  },
  {
   "cell_type": "code",
   "execution_count": 9,
   "metadata": {},
   "outputs": [
    {
     "name": "stdout",
     "output_type": "stream",
     "text": [
      "[1, 2, 1000, 3, 100]\n",
      "[1, 2, 1000, 1000, 3, 100]\n"
     ]
    }
   ],
   "source": [
    "# insert :制定位置插入\n",
    "# insert(index,data),插入位置是index的前面\n",
    "print(a)\n",
    "a.insert(2,1000)\n",
    "print(a)"
   ]
  },
  {
   "cell_type": "code",
   "execution_count": 10,
   "metadata": {},
   "outputs": [
    {
     "name": "stdout",
     "output_type": "stream",
     "text": [
      "100\n",
      "[1, 2, 1000, 1000, 3]\n"
     ]
    }
   ],
   "source": [
    "# 删除\n",
    "# del 删除\n",
    "# pop,从对位拿出一个元素，即把最后一个元素拿出来\n",
    "last_ele = a.pop()\n",
    "print(last_ele)\n",
    "print(a)"
   ]
  },
  {
   "cell_type": "code",
   "execution_count": 20,
   "metadata": {},
   "outputs": [
    {
     "name": "stdout",
     "output_type": "stream",
     "text": [
      "4404053320\n",
      "[1, 2, 34]\n",
      "4404053320\n"
     ]
    }
   ],
   "source": [
    "# remove :删除指定的值的删除元素\n",
    "# 这个如果删除的没有在list里 就会报错，可以用try。。。except\n",
    "# if x in list：\n",
    "#    list.remove(x)\n",
    "a = [1,2,3,34] \n",
    "print(id(a))\n",
    "a.remove(3)\n",
    "print(a)\n",
    "print(id(a))"
   ]
  },
  {
   "cell_type": "code",
   "execution_count": 24,
   "metadata": {},
   "outputs": [
    {
     "name": "stdout",
     "output_type": "stream",
     "text": [
      "[]\n",
      "4404053320\n",
      "[]\n",
      "4404053320\n",
      "[]\n",
      "4404054280\n",
      "[]\n",
      "4402701256\n"
     ]
    }
   ],
   "source": [
    "#clear :清空\n",
    "print(a)\n",
    "print(id(a))\n",
    "a.clear()\n",
    "print(a)\n",
    "print(id(a))\n",
    "\n",
    "a = list()\n",
    "print(a)\n",
    "print(id(a))\n",
    "a = []\n",
    "print(a)\n",
    "print(id(a))"
   ]
  },
  {
   "cell_type": "code",
   "execution_count": 2,
   "metadata": {},
   "outputs": [
    {
     "name": "stdout",
     "output_type": "stream",
     "text": [
      "[1, 2, 3, 4, 5]\n",
      "4401748104\n",
      "[5, 4, 3, 2, 1]\n",
      "4401748104\n"
     ]
    }
   ],
   "source": [
    "# reverse:翻转列表的内容  原地翻转\n",
    "\n",
    "a = [1,2,3,4,5]\n",
    "print(a)\n",
    "print(id(a))\n",
    "\n",
    "a.reverse()\n",
    "\n",
    "print(a)\n",
    "print(id(a))"
   ]
  },
  {
   "cell_type": "code",
   "execution_count": 4,
   "metadata": {},
   "outputs": [
    {
     "name": "stdout",
     "output_type": "stream",
     "text": [
      "[1, 2, 3, 4, 5]\n",
      "4401747464\n",
      "[1, 2, 3, 4, 5, 3, 4, 5, 6, 7]\n",
      "4401747464\n"
     ]
    }
   ],
   "source": [
    "# extend :列表的拓展  原地拓展\n",
    "\n",
    "a = [1,2,3,4,5]\n",
    "b = [3,4,5,6,7]\n",
    "print(a)\n",
    "print(id(a))\n",
    "\n",
    "a.extend(b)\n",
    "\n",
    "print(a)\n",
    "print(id(a))"
   ]
  },
  {
   "cell_type": "code",
   "execution_count": 5,
   "metadata": {},
   "outputs": [
    {
     "name": "stdout",
     "output_type": "stream",
     "text": [
      "[1, 2, 3, 4, 5, 3, 4, 5, 6, 7]\n",
      "[1, 2, 3, 8, 4, 5, 3, 4, 5, 6, 7, 8]\n",
      "2\n"
     ]
    }
   ],
   "source": [
    "# count：查找列表中指定值或元素个数\n",
    "print(a)\n",
    "a.append(8)\n",
    "a.insert(3,8)\n",
    "print(a)\n",
    "a_len = a.count(8) #查找指定值的个数\n",
    "print(a_len)"
   ]
  },
  {
   "cell_type": "code",
   "execution_count": 3,
   "metadata": {},
   "outputs": [
    {
     "name": "stdout",
     "output_type": "stream",
     "text": [
      "[1, 2, 3, 4, 5, 666]\n",
      "[1, 2, 3, 777, 5, 666]\n",
      "4401646792\n",
      "[1, 2, 3, 777, 5, 666]\n",
      "4401646792\n",
      "##############################\n",
      "[1, 2, 3, 777, 5, 666]\n",
      "4401646792\n",
      "[1, 2, 3, 777, 5, 666]\n",
      "4401673416\n",
      "******************************\n",
      "[1, 2, 3, 777, 5, 666]\n",
      "[1, 2, 3, 80, 5, 666]\n"
     ]
    }
   ],
   "source": [
    "# copy ：拷贝 浅拷贝\n",
    "\n",
    "# 列表类型变量的赋值\n",
    "a = [1,2,3,4,5,666]\n",
    "\n",
    "print(a)\n",
    "# list 类型。简单的赋值，是传址的操作！copy函数可以\n",
    "b = a\n",
    "b[3] = 777\n",
    "print(a)# 这里的a【3】也被改变了 因为是传址操作\n",
    "print(id(a))\n",
    "print(b)\n",
    "print(id(b))\n",
    "print(\"#\"*30)\n",
    "\n",
    "# 下面的代码就是为了解决这个问题 \n",
    "b = a.copy() # 复制的是值，不是地址，所以下面的改变是只是值！！！\n",
    "print(a)\n",
    "print(id(a))\n",
    "\n",
    "print(b)\n",
    "print(id(b))\n",
    "\n",
    "print(\"*\"*30)\n",
    "b[3] = 80    #这里就是传递的是传‘值’！！！！！\n",
    "print(a)\n",
    "print(b)"
   ]
  },
  {
   "cell_type": "code",
   "execution_count": 7,
   "metadata": {},
   "outputs": [
    {
     "name": "stdout",
     "output_type": "stream",
     "text": [
      "[1, 2, 3, [10, 20, 30]]\n",
      "[1, 2, 3, [10, 20, 30]]\n",
      "4401772872\n",
      "4402248328\n",
      "4402248456\n",
      "4402248456\n",
      "[1, 2, 3, [10, 20, 666]]\n",
      "[1, 2, 3, [10, 20, 666]]\n"
     ]
    }
   ],
   "source": [
    "# 深拷贝和浅拷贝的区别：深拷贝要工具\n",
    "# 出现下面的情况就是浅拷贝！ 即只拷贝了一层的数值\n",
    "# 深拷贝用到特定的工具！\n",
    "a = [1,2,3,[10,20,30]]\n",
    "b =  a.copy()\n",
    "print(a)\n",
    "print(b)\n",
    "print(id(a)) # 这里的只是值！ \n",
    "print(id(b))\n",
    "# 可是这里就是地址了！！！！！\n",
    "print(id(a[3]))\n",
    "print(id(b[3]))\n",
    "a[3][2] =666\n",
    "print(a)\n",
    "print(b)\n"
   ]
  },
  {
   "cell_type": "markdown",
   "metadata": {},
   "source": [
    "# 元组 - tuple\n",
    "- 元组可以看成是一个不可更改的list\n",
    "## 元组的创建\n"
   ]
  },
  {
   "cell_type": "code",
   "execution_count": 15,
   "metadata": {},
   "outputs": [
    {
     "name": "stdout",
     "output_type": "stream",
     "text": [
      "<class 'tuple'>\n",
      "<class 'tuple'>\n",
      "(1,)\n",
      "******************************\n",
      "<class 'tuple'>\n",
      "(1,)\n",
      "******************************\n",
      "<class 'tuple'>\n",
      "(1, 2, 3, 4)\n"
     ]
    }
   ],
   "source": [
    "# 空元组的创建\n",
    "t = ()\n",
    "print(type(t))\n",
    "\n",
    "# 创建一个只有一个值的元组\n",
    "t = (1,)\n",
    "print(type(t))\n",
    "print(t)\n",
    "\n",
    "\n",
    "print(\"*\"*30)\n",
    "t = 1,\n",
    "print(type(t))\n",
    "print(t)\n",
    "print(\"*\"*30)\n",
    "\n",
    "# 创建多个值的元组\n",
    "t = (1,2,3,4,)\n",
    "print(type(t))\n",
    "print(t)"
   ]
  },
  {
   "cell_type": "markdown",
   "metadata": {},
   "source": [
    "# #元组的特点\n",
    "- 有序\n",
    "- 元组的数值可以访问可是不可以修改\n",
    "- 元组数据可以是任意值\n",
    "- 总之，除了不可以修改，元组都具有其他特性"
   ]
  },
  {
   "cell_type": "code",
   "execution_count": 16,
   "metadata": {},
   "outputs": [
    {
     "name": "stdout",
     "output_type": "stream",
     "text": [
      "3\n"
     ]
    }
   ],
   "source": [
    "# 索引操作\n",
    "t = (1,2,3,4)\n",
    "print(t[2])"
   ]
  },
  {
   "cell_type": "code",
   "execution_count": 17,
   "metadata": {},
   "outputs": [
    {
     "ename": "IndexError",
     "evalue": "tuple index out of range",
     "output_type": "error",
     "traceback": [
      "\u001b[0;31m---------------------------------------------------------------------------\u001b[0m",
      "\u001b[0;31mIndexError\u001b[0m                                Traceback (most recent call last)",
      "\u001b[0;32m<ipython-input-17-2a9fbde75d90>\u001b[0m in \u001b[0;36m<module>\u001b[0;34m()\u001b[0m\n\u001b[1;32m      1\u001b[0m \u001b[0;31m# 超标错误\u001b[0m\u001b[0;34m\u001b[0m\u001b[0;34m\u001b[0m\u001b[0m\n\u001b[0;32m----> 2\u001b[0;31m \u001b[0mprint\u001b[0m\u001b[0;34m(\u001b[0m\u001b[0mt\u001b[0m\u001b[0;34m[\u001b[0m\u001b[0;36m23\u001b[0m\u001b[0;34m]\u001b[0m\u001b[0;34m)\u001b[0m\u001b[0;34m\u001b[0m\u001b[0m\n\u001b[0m",
      "\u001b[0;31mIndexError\u001b[0m: tuple index out of range"
     ]
    }
   ],
   "source": [
    "# 超标错误\n",
    "print(t[23])"
   ]
  },
  {
   "cell_type": "code",
   "execution_count": 19,
   "metadata": {},
   "outputs": [
    {
     "name": "stdout",
     "output_type": "stream",
     "text": [
      "4402323912\n",
      "4401736336\n",
      "(2,)\n",
      "(3, 4, 5, 6)\n"
     ]
    }
   ],
   "source": [
    "t = (1,2,3,4,5,6)\n",
    "t1 = t[1:2]\n",
    "print(id(t))\n",
    "print(id(t1))\n",
    "print(t1)\n",
    "\n",
    "# 切片可以超标\n",
    "t2 = t[2:100]\n",
    "print(t2)"
   ]
  },
  {
   "cell_type": "code",
   "execution_count": 23,
   "metadata": {},
   "outputs": [
    {
     "name": "stdout",
     "output_type": "stream",
     "text": [
      "(1, 2, 3)\n",
      "4402405448\n",
      "(1, 2, 3, 5, 6, 7)\n",
      "4401401288\n"
     ]
    },
    {
     "ename": "TypeError",
     "evalue": "'tuple' object does not support item assignment",
     "output_type": "error",
     "traceback": [
      "\u001b[0;31m---------------------------------------------------------------------------\u001b[0m",
      "\u001b[0;31mTypeError\u001b[0m                                 Traceback (most recent call last)",
      "\u001b[0;32m<ipython-input-23-ed44d1cb0103>\u001b[0m in \u001b[0;36m<module>\u001b[0;34m()\u001b[0m\n\u001b[1;32m     15\u001b[0m \u001b[0;31m# 即是重新赋值的结果\u001b[0m\u001b[0;34m\u001b[0m\u001b[0;34m\u001b[0m\u001b[0m\n\u001b[1;32m     16\u001b[0m \u001b[0;34m\u001b[0m\u001b[0m\n\u001b[0;32m---> 17\u001b[0;31m \u001b[0mt1\u001b[0m\u001b[0;34m[\u001b[0m\u001b[0;36m1\u001b[0m\u001b[0;34m]\u001b[0m \u001b[0;34m=\u001b[0m \u001b[0;36m100\u001b[0m\u001b[0;34m\u001b[0m\u001b[0m\n\u001b[0m",
      "\u001b[0;31mTypeError\u001b[0m: 'tuple' object does not support item assignment"
     ]
    }
   ],
   "source": [
    "# 序列相加\n",
    "t1 = (1,2,3)\n",
    "t2 = (5,6,7)\n",
    "\n",
    "# 传址操作\n",
    "print(t1)\n",
    "print(id(t1))\n",
    "t1 += t2\n",
    "print(t1)\n",
    "print(id(t1))\n",
    "\n",
    "# 以上操作，类似于\n",
    "t1 = (1,2,3)\n",
    "t1 = (2,3,4)\n",
    "# 即是重新赋值的结果\n",
    "# 下面的就是不可以修改的示例，就是不可以修改值\n",
    "t[1] = 100"
   ]
  },
  {
   "cell_type": "code",
   "execution_count": 25,
   "metadata": {},
   "outputs": [
    {
     "name": "stdout",
     "output_type": "stream",
     "text": [
      "(1, 2, 3, 1, 2, 3, 1, 2, 3)\n"
     ]
    }
   ],
   "source": [
    "#元组相乘\n",
    "t = (1,2,3)\n",
    "t = t * 3\n",
    "print(t)"
   ]
  },
  {
   "cell_type": "code",
   "execution_count": 27,
   "metadata": {},
   "outputs": [
    {
     "name": "stdout",
     "output_type": "stream",
     "text": [
      "yes\n"
     ]
    }
   ],
   "source": [
    "# 成员检测\n",
    "t = (1,2,3)\n",
    "if 2 in t:\n",
    "    print(\"yes\")\n",
    "else:\n",
    "    print(\"No\")"
   ]
  },
  {
   "cell_type": "code",
   "execution_count": 28,
   "metadata": {},
   "outputs": [
    {
     "name": "stdout",
     "output_type": "stream",
     "text": [
      "1 2 3 wang  i love "
     ]
    }
   ],
   "source": [
    "# 元组的遍历，一般是for\n",
    "# 1，单层的遍历\n",
    "t = (1,2,3,\"wang \",'i',\"love\")\n",
    "for i in t:\n",
    "    print(i,end=\" \")"
   ]
  },
  {
   "cell_type": "code",
   "execution_count": 32,
   "metadata": {},
   "outputs": [
    {
     "name": "stdout",
     "output_type": "stream",
     "text": [
      "(1, 2, 3)\n",
      "(2, 3, 4)\n",
      "('i ', 'love ', 'mooc')\n",
      "##############################\n",
      "1 --- 2 --- 3\n",
      "2 --- 3 --- 4\n",
      "i  --- love  --- mooc\n"
     ]
    }
   ],
   "source": [
    "# 2,双层遍历\n",
    "t = ((1,2,3),(2,3,4),(\"i \",\"love \",\"mooc\"))\n",
    "\n",
    "\n",
    "# 遍历\n",
    "# 1:\n",
    "for i in t:\n",
    "    print(i)\n",
    "print(\"#\"*30)\n",
    "# 2:\n",
    "for k,m,n in t:\n",
    "    print(k,\"---\",m,\"---\",n)"
   ]
  },
  {
   "cell_type": "code",
   "execution_count": null,
   "metadata": {},
   "outputs": [],
   "source": []
  }
 ],
 "metadata": {
  "kernelspec": {
   "display_name": "Python 3",
   "language": "python",
   "name": "python3"
  },
  "language_info": {
   "codemirror_mode": {
    "name": "ipython",
    "version": 3
   },
   "file_extension": ".py",
   "mimetype": "text/x-python",
   "name": "python",
   "nbconvert_exporter": "python",
   "pygments_lexer": "ipython3",
   "version": "3.6.4"
  }
 },
 "nbformat": 4,
 "nbformat_minor": 2
}
