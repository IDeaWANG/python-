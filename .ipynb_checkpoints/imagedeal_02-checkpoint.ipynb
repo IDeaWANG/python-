{
 "cells": [
  {
   "cell_type": "code",
   "execution_count": 1,
   "metadata": {},
   "outputs": [],
   "source": [
    "# 图像处理，就是打印指定的范围；\n",
    "# 然后保存道新的png里面；\n",
    "# 利用PIL模块的image处理方法；\n",
    "\n",
    "\n",
    "from PIL import Image\n",
    "\n",
    "im = Image.open('1.png')#图片\n",
    "im.show()\n",
    "box = (10,20,30,40)#(x1,y1,x2,y2)\n",
    "crop_img = im.crop(box)\n",
    "crop_img.save('2.png')\n"
   ]
  },
  {
   "cell_type": "code",
   "execution_count": null,
   "metadata": {},
   "outputs": [],
   "source": []
  }
 ],
 "metadata": {
  "kernelspec": {
   "display_name": "Python 3",
   "language": "python",
   "name": "python3"
  },
  "language_info": {
   "codemirror_mode": {
    "name": "ipython",
    "version": 3
   },
   "file_extension": ".py",
   "mimetype": "text/x-python",
   "name": "python",
   "nbconvert_exporter": "python",
   "pygments_lexer": "ipython3",
   "version": "3.6.4"
  }
 },
 "nbformat": 4,
 "nbformat_minor": 2
}
