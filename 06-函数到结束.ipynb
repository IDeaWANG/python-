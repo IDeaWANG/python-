{
 "cells": [
  {
   "cell_type": "markdown",
   "metadata": {},
   "source": [
    "# 四类参数\n",
    "- 普通参数\n",
    "- 默认参数\n",
    "- 收集字参数\n",
    "- 收集参数\n",
    "\n",
    "## 关键字参数开始\n",
    "- 语法 \n",
    "        \n",
    "        def func(p1=v1,p2=v2....):\n",
    "        func_body\n",
    "        \n",
    "        调用函数：\n",
    "        func(p1=value1,p2=value2....)#参数名=** \n",
    "- 比较麻烦 可是\n",
    "    - 不容易混淆， 一般实参和形参按照位置一一对应，容易出错\n",
    "    - 此时循序不是特别重要了，可以不考虑位置\n",
    "    "
   ]
  },
  {
   "cell_type": "code",
   "execution_count": 2,
   "metadata": {},
   "outputs": [
    {
     "name": "stdout",
     "output_type": "stream",
     "text": [
      "i am a student!\n",
      "my name is bob,my age is 18,i live inmy home\n",
      "i am a student!\n",
      "my name is bob,my age is 18,i live in my home\n"
     ]
    }
   ],
   "source": [
    "# 关键字案例\n",
    "def stu(name,age,addr):\n",
    "    print(\"i am a student!\")\n",
    "    print(\"my name is {0},my age is {1},i live in{2}\".format(name,age,addr))\n",
    "    \n",
    "n = \"bob\"\n",
    "a = 18\n",
    "addr = \"my home\"\n",
    "#普通参数，位置改变即出错    \n",
    "stu(n,a,addr)\n",
    "\n",
    "\n",
    "def stu_key(name=\"no name\",age=0,addr=\"no addr\"):\n",
    "    print(\"i am a student!\")\n",
    "    print(\"my name is {0},my age is {1},i live in {2}\".format(name,age,addr))\n",
    "    \n",
    "n = \"bob\"\n",
    "a = 18\n",
    "addr = \"my home\"\n",
    "\n",
    "\n",
    "   \n",
    "stu_key(name=n,age=a,addr=addr)#关键字格式的调用要是“关键字=**”de格式；"
   ]
  },
  {
   "cell_type": "code",
   "execution_count": 3,
   "metadata": {},
   "outputs": [
    {
     "name": "stdout",
     "output_type": "stream",
     "text": [
      "my name is mooc\n"
     ]
    }
   ],
   "source": [
    "# def的定义里的name不会起到作用，只是表示一个形参；\n",
    "def stu_key(name = \"mooc 1\"):\n",
    "    print(\"my name is {0}\".format(\"mooc\"))\n",
    "    \n",
    "stu_key()"
   ]
  },
  {
   "cell_type": "markdown",
   "metadata": {},
   "source": [
    "## 收集参数\n",
    "- 把没有位置，不能和定义函数的相对位置的参数，放入一个特定的数据结构中\n",
    "- 语法 \n",
    "         \n",
    "         def func(*args):\n",
    "         func_body\n",
    "         按照list使用方式args得到传入的参数\n",
    "         \n",
    "         \n",
    "         调用：\n",
    "         func(p1,p2,p3......)\n",
    "\n",
    "- 参数名args得这么写，虽然不是必须，约定俗成\n",
    "- 参数名args前需要一个星号*  表示这是一个收集参数         \n",
    "- 收集参数可以和其他函数共存"
   ]
  },
  {
   "cell_type": "code",
   "execution_count": 4,
   "metadata": {},
   "outputs": [
    {
     "name": "stdout",
     "output_type": "stream",
     "text": [
      "i will speak a little!\n",
      "<class 'tuple'>\n",
      "my name is bob\n",
      "i am 18\n",
      "i live in anhui\n",
      "i love mooc\n",
      "i am single now \n",
      "i will speak a little!\n",
      "<class 'tuple'>\n",
      "刘大拿是py大神！\n"
     ]
    }
   ],
   "source": [
    "# 收集参互代码\n",
    "# 学生自我介绍编程\n",
    "# args看成一个list\n",
    "def stu( *args):\n",
    "    \n",
    "    print(\"i will speak a little!\")\n",
    "    \n",
    "    #type函数的作用是检测自我介绍\n",
    "    print(type(args))\n",
    "    for item in args:\n",
    "        print(item)\n",
    "\n",
    "stu(\"my name is bob\",\"i am 18\",\"i live in anhui\",\"i love mooc\",\"i am single now \")\n",
    "\n",
    "stu(\"刘大拿是py大神！\")"
   ]
  },
  {
   "cell_type": "code",
   "execution_count": 6,
   "metadata": {},
   "outputs": [
    {
     "name": "stdout",
     "output_type": "stream",
     "text": [
      "i will speak a little!\n",
      "<class 'tuple'>\n",
      "bob\n"
     ]
    }
   ],
   "source": [
    "#收集函数案例\n",
    "#说明收集参数可以不带任何使用参数，此时收集参数为空tuple\n",
    "\n",
    "stu(\"bob\")"
   ]
  },
  {
   "cell_type": "code",
   "execution_count": 18,
   "metadata": {},
   "outputs": [
    {
     "ename": "TypeError",
     "evalue": "stu() got an unexpected keyword argument 'name'",
     "output_type": "error",
     "traceback": [
      "\u001b[0;31m---------------------------------------------------------------------------\u001b[0m",
      "\u001b[0;31mTypeError\u001b[0m                                 Traceback (most recent call last)",
      "\u001b[0;32m<ipython-input-18-0e312134ad58>\u001b[0m in \u001b[0;36m<module>\u001b[0;34m()\u001b[0m\n\u001b[1;32m      1\u001b[0m \u001b[0;31m#如果使用关键字格式调用，会出错！\u001b[0m\u001b[0;34m\u001b[0m\u001b[0;34m\u001b[0m\u001b[0m\n\u001b[0;32m----> 2\u001b[0;31m \u001b[0mstu\u001b[0m\u001b[0;34m(\u001b[0m\u001b[0mname\u001b[0m\u001b[0;34m=\u001b[0m\u001b[0;34m\"bob\"\u001b[0m\u001b[0;34m)\u001b[0m\u001b[0;34m\u001b[0m\u001b[0m\n\u001b[0m",
      "\u001b[0;31mTypeError\u001b[0m: stu() got an unexpected keyword argument 'name'"
     ]
    }
   ],
   "source": [
    "#如果使用关键字格式调用，会出错！\n",
    "\n",
    "stu(name=\"bob\")"
   ]
  },
  {
   "cell_type": "markdown",
   "metadata": {},
   "source": [
    "### 收集参数\n",
    "- 把关键字参数按照字典的格式存入收集参数\n",
    "- 语法：\n",
    "            \n",
    "            def func(**kwargs):\n",
    "                func_body\n",
    "                \n",
    "                \n",
    "            #调用：\n",
    "            func(p1=v1,p2=v2.....)\n",
    "- kwargs是约定俗成的\n",
    "- 调用的时候，把多余的关键字参数放在kwargs\n",
    "- 访问kwargs需要按照字典格式访问"
   ]
  },
  {
   "cell_type": "code",
   "execution_count": 1,
   "metadata": {},
   "outputs": [
    {
     "name": "stdout",
     "output_type": "stream",
     "text": [
      "hello ! i will speak a little~ \n",
      "<class 'dict'>\n",
      "name --- bob\n",
      "age --- 18\n",
      "adder --- anhui \n",
      "lover --- lucy\n",
      "job --- student\n",
      "********************\n",
      "hello ! i will speak a little~ \n",
      "<class 'dict'>\n",
      "name --- bo\n",
      "hello ! i will speak a little~ \n",
      "<class 'dict'>\n"
     ]
    }
   ],
   "source": [
    "#收集参数案例\n",
    "#自我介绍\n",
    "#调用时使用关键字调用\n",
    "def stu(**kwargs):\n",
    "    print(\"hello ! i will speak a little~ \")\n",
    "    print(type(kwargs))\n",
    "    #对于字典的访问，这里是python3的写法\n",
    "    for k,v in kwargs.items():\n",
    "        print(k,\"---\",v)#字典类输出 一对对的输出\n",
    "stu(name=\"bob\",age=18,adder=\"anhui \",lover=\"lucy\",job=\"student\")\n",
    "#收集参数正常写满案例\n",
    "print(\"*\"*20)\n",
    "\n",
    "stu(name=\"bo\")#收集参数少写案例\n",
    "\n",
    "stu()#收集参数为空案例\n"
   ]
  },
  {
   "cell_type": "code",
   "execution_count": 30,
   "metadata": {},
   "outputs": [],
   "source": [
    "# for k,v in kwargs.items():\n",
    "        #print(k,\"---\",v)#字典类输出 一对对的输出\n",
    "# v 对应的是values 即值"
   ]
  },
  {
   "cell_type": "code",
   "execution_count": 31,
   "metadata": {},
   "outputs": [
    {
     "name": "stdout",
     "output_type": "stream",
     "text": [
      "hello ! i will speak a little \n",
      "<class 'dict'>\n"
     ]
    }
   ],
   "source": [
    "# 收集参数可以为空\n",
    "\n",
    "stu()"
   ]
  },
  {
   "cell_type": "markdown",
   "metadata": {},
   "source": [
    "### 收集参数混合使用的循序问题\n",
    "- 收集参数，关键字参数，普通参数可以混合使用\n",
    "- 规则，普通参数和关键字参数优先\n",
    "- 定义的时候，普通参数  关键字参数，收集参数tuple，·收集参数dict"
   ]
  },
  {
   "cell_type": "code",
   "execution_count": 54,
   "metadata": {},
   "outputs": [
    {
     "name": "stdout",
     "output_type": "stream",
     "text": [
      "hello everybody\n",
      "my name is bob,my age is 19。\n",
      "i am sorry \n",
      "##############################\n",
      "******************************\n",
      "hello everybody\n",
      "my name is bob,my age is 19。\n",
      "my habby is {0} basketball\n",
      "##############################\n",
      "******************************\n",
      "hello everybody\n",
      "my name is bob,my age is 19。\n",
      "my habby is {0} basketball\n",
      "##############################\n",
      "bob\n",
      "******************************\n",
      "hobby2 --- surfing\n"
     ]
    }
   ],
   "source": [
    "# 收集参数混合调用\n",
    "#stu模拟一个学生的自我介绍\n",
    "\n",
    "def stu(name,age,*args,hobby=\"no\",**kwargs):\n",
    "    print(\"hello everybody\")\n",
    "    print(\"my name is {0},my age is {1}。\".format(name,age))\n",
    "    if hobby ==\"no\":\n",
    "        print(\"i am sorry \")\n",
    "    else:\n",
    "            print(\"my habby is {0}\",format(hobby))\n",
    "    print(\"#\"*30)\n",
    "            \n",
    "    for i in args:\n",
    "                print(i)\n",
    "                \n",
    "    print(\"*\"*30)\n",
    "            \n",
    "    for k,v in kwargs.items():#解包 得使用\".items()\"\n",
    "                print(k,\"---\",v)\n",
    "                \n",
    "#调用函数\n",
    "name = \"bob\"\n",
    "age = 19\n",
    "\n",
    "stu(name,age)#调用函数1\n",
    "\n",
    "\n",
    "stu(name,age,hobby=\"basketball\")#调用函数2\n",
    "\n",
    "\n",
    "stu(name,age,\"bob\",hobby=\"basketball\",hobby2=\"surfing\")\n",
    "#调用函数3"
   ]
  },
  {
   "cell_type": "markdown",
   "metadata": {},
   "source": [
    "### 收集参数的解包问题\n",
    "- 把参数放在list或者字典里\n"
   ]
  },
  {
   "cell_type": "code",
   "execution_count": 56,
   "metadata": {},
   "outputs": [
    {
     "name": "stdout",
     "output_type": "stream",
     "text": [
      "i love mooc\n",
      "{19, 20, 'mooc'}\n",
      "<class 'set'>\n",
      "0\n",
      "{19, 20, 'mooc'}\n"
     ]
    }
   ],
   "source": [
    "# 收集参数的解包问题\n",
    "def stu(* args):\n",
    "    print(\"i love mooc\")\n",
    "    for i in args:\n",
    "        print(i)\n",
    "        n=0\n",
    "        for i in args:\n",
    "            print(type(i))\n",
    "            print(n)\n",
    "            n+=1\n",
    "            print(i)\n",
    "            \n",
    "l={\"mooc\",19,20}\n",
    "\n",
    "stu(l)"
   ]
  },
  {
   "cell_type": "markdown",
   "metadata": {},
   "source": [
    "### 返回值\n",
    "- 函数和过程的区别\n",
    "    - 有无返回值\n",
    "- 需要return显示返回值\n",
    "- 如果没有返回值，则默认返回None\n",
    "- 推荐写法，无论有无返回值，都以return结束"
   ]
  },
  {
   "cell_type": "code",
   "execution_count": 62,
   "metadata": {},
   "outputs": [
    {
     "name": "stdout",
     "output_type": "stream",
     "text": [
      "有返回值\n",
      "1\n",
      "无返回值呀\n",
      "None\n"
     ]
    }
   ],
   "source": [
    "# 返回值示例\n",
    "\n",
    "def func_1():\n",
    "    print(\"有返回值\")\n",
    "    return 1\n",
    "\n",
    "def func_2():\n",
    "    print(\"无返回值\")\n",
    "\n",
    "f1 = func_1()\n",
    "print(f1)\n",
    "    \n",
    "f2 = func_2()\n",
    "print(f2)\n",
    "    "
   ]
  },
  {
   "cell_type": "markdown",
   "metadata": {},
   "source": [
    "# 函数文档\n",
    "- 函数的文档的作用是当前函数提供使用相关的参考信息\n",
    "- 文档的写法：\n",
    "    - 在函数内部开始的第一行使用三字符定义符\n",
    "    - 一般具有特定的形式\n",
    "- 文档查看\n",
    "    - 使用help函数 如help（func）\n",
    "    - 使用——doc_，参看函数\n",
    "    "
   ]
  },
  {
   "cell_type": "code",
   "execution_count": 67,
   "metadata": {},
   "outputs": [],
   "source": [
    "#文档案例\n",
    "\n",
    "def stu(name,age,*args):\n",
    "    '''this is functions stu'''\n",
    "    print(\"this is the function stu\")\n",
    "    "
   ]
  },
  {
   "cell_type": "code",
   "execution_count": 72,
   "metadata": {},
   "outputs": [
    {
     "name": "stdout",
     "output_type": "stream",
     "text": [
      "Help on function stu in module __main__:\n",
      "\n",
      "stu(name, age, *args)\n",
      "    this is functions stu\n",
      "\n",
      "******************************\n"
     ]
    },
    {
     "data": {
      "text/plain": [
       "'this is functions stu'"
      ]
     },
     "execution_count": 72,
     "metadata": {},
     "output_type": "execute_result"
    }
   ],
   "source": [
    "#文档查看\n",
    "help(stu)\n",
    "print(\"*\"*30)\n",
    "stu.__doc__"
   ]
  },
  {
   "cell_type": "code",
   "execution_count": 7,
   "metadata": {},
   "outputs": [
    {
     "name": "stdout",
     "output_type": "stream",
     "text": [
      "Help on function stu in module __main__:\n",
      "\n",
      "stu(*args)\n",
      "    # 收集参互代码\n",
      "    #学生自我介绍编程\n",
      "    #args看成一个list\n",
      "\n"
     ]
    }
   ],
   "source": [
    "help(stu)"
   ]
  },
  {
   "cell_type": "code",
   "execution_count": 4,
   "metadata": {},
   "outputs": [
    {
     "name": "stdout",
     "output_type": "stream",
     "text": [
      "Help on function stu in module __main__:\n",
      "\n",
      "stu(name, age, addr)\n",
      "    # 关键字案例\n",
      "\n"
     ]
    }
   ],
   "source": [
    "# 自定义函数stu的查看文档；\n",
    "help(stu)\n"
   ]
  },
  {
   "cell_type": "code",
   "execution_count": null,
   "metadata": {},
   "outputs": [],
   "source": []
  },
  {
   "cell_type": "code",
   "execution_count": null,
   "metadata": {},
   "outputs": [],
   "source": []
  }
 ],
 "metadata": {
  "kernelspec": {
   "display_name": "Python 3",
   "language": "python",
   "name": "python3"
  },
  "language_info": {
   "codemirror_mode": {
    "name": "ipython",
    "version": 3
   },
   "file_extension": ".py",
   "mimetype": "text/x-python",
   "name": "python",
   "nbconvert_exporter": "python",
   "pygments_lexer": "ipython3",
   "version": "3.6.4"
  }
 },
 "nbformat": 4,
 "nbformat_minor": 2
}
